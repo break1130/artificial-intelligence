{
  "nbformat": 4,
  "nbformat_minor": 0,
  "metadata": {
    "colab": {
      "name": "Untitled0.ipynb",
      "provenance": [],
      "authorship_tag": "ABX9TyMepKhaW5bpLAvKybjjkzqy",
      "include_colab_link": true
    },
    "kernelspec": {
      "name": "python3",
      "display_name": "Python 3"
    }
  },
  "cells": [
    {
      "cell_type": "markdown",
      "metadata": {
        "id": "view-in-github",
        "colab_type": "text"
      },
      "source": [
        "<a href=\"https://colab.research.google.com/github/break1130/artificial-intelligence/blob/master/Untitled0.ipynb\" target=\"_parent\"><img src=\"https://colab.research.google.com/assets/colab-badge.svg\" alt=\"Open In Colab\"/></a>"
      ]
    },
    {
      "cell_type": "code",
      "metadata": {
        "id": "2QvteZ0nFRX5",
        "colab_type": "code",
        "colab": {}
      },
      "source": [
        ""
      ],
      "execution_count": 0,
      "outputs": []
    },
    {
      "cell_type": "markdown",
      "metadata": {
        "id": "GEJdG2NaJbWa",
        "colab_type": "text"
      },
      "source": [
        "# 1. **인공지능의 언어**\n",
        "\n",
        "##  * 언어번역 서비스\n",
        "\n",
        "인공지능의 언어 분야에 관련된 서비스중에서 가장 눈에 띄는 것은 **번역서비스**라고 생각한다. \n",
        "\n",
        "언어는 소통에 있어서 가장 중요한 것인데 서로 다른 언어를 사용하는 사람들끼리는 소통이 매우 힘들어지고 \n",
        "\n",
        "그런 사람과 소통을 하기 위해서는 그 사람의 언어를 배워야 하는데 언어를 배우기 위해서는 오랜 시간과 노력이 필요하기 때문에 한사람이 배울 수 있는 언어는 아무래도 한계가 있기 마련이다.\n",
        "\n",
        "그러나 언어번역 서비스는 그러한 한계를 언어가 학습된 인공지능이 해결해주어서 우리가 언어가 다른 지역을 가더라도 그 지역 사람과 소통이 가능하게끔 하여 주어서 우리가 느끼는 **가장 큰 불편함**을 해결해 줄 수 있기때문이다.\n",
        "\n",
        "현재 대중적으로 많이 알려져있는 번역서비스인 구글 번역과 네이버 파파고를 사용해보면 과거 번역기를 사용했을 때보다 훨씬 더 자연스럽고 매끄럽게 해당 언어를 표현해주어서 실제 번역한 것과 크게 다르지 않은 모습을 보여준다.\n",
        "\n",
        "그러나 일상생활에 사용되는 문장들에 비해서 소설 등에 사용되는 표현들은 번역하였을 때 그 표현이 주는 느낌을 다른 언어로 전달하는데 많이 부족하여서 번역기로 번역한 표현을 읽었을 때 그 표현이 와 닿지 안게 번역되는 경우가 많아 아쉬운 점도 있었다.\n",
        "\n",
        "\n",
        "그렇기 때문에 그러한 표현까지도 해당 언어로 표현할 수 있게 되어 서로 다른 언어를 사용하는 사람들의 문학까지 더욱 자유롭게 볼 수 있게 만들어 보고 싶어졌다.\n",
        "\n",
        "\n",
        "\n",
        "\n"
      ]
    }
  ]
}